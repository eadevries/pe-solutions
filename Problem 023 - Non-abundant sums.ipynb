{
 "cells": [
  {
   "cell_type": "markdown",
   "metadata": {},
   "source": [
    "# Problem 23\n",
    "##  Non-abundant sums\n",
    "------\n",
    "\n",
    "A perfect number is a number for which the sum of its proper divisors is exactly equal to the number. For example, the sum of the proper divisors of 28 would be 1 + 2 + 4 + 7 + 14 = 28, which means that 28 is a perfect number.\n",
    "\n",
    "A number n is called deficient if the sum of its proper divisors is less than n and it is called abundant if this sum exceeds n.\n",
    "\n",
    "As 12 is the smallest abundant number, 1 + 2 + 3 + 4 + 6 = 16, the smallest number that can be written as the sum of two abundant numbers is 24. By mathematical analysis, it can be shown that all integers greater than 28123 can be written as the sum of two abundant numbers. However, this upper limit cannot be reduced any further by analysis even though it is known that the greatest number that cannot be expressed as the sum of two abundant numbers is less than this limit.\n",
    "\n",
    "*Find the sum of all the positive integers which cannot be written as the sum of two abundant numbers.*\n",
    "\n",
    "---\n",
    "Correct result: **4179871**"
   ]
  },
  {
   "cell_type": "markdown",
   "metadata": {},
   "source": [
    "### Discussion\n",
    "\n",
    "The approach below starts with a sum of proper divisors function similar to that from Problem 21. From there, we first calculate a list of abundant numbers up to the given limit. We next create a function which tests whether or not a given number is the sum of two abundant numbers. It does this by iterating up through a sorted list of the abundant numbers, checking whether the given number minus the current abundant number is itself an abundant number (this allows for us to stop the iteration and return False once you reach an abundant number greater than half the given number, as if the correct value were True, we should already have returned True when we reached the value equal to the difference of the given number and the current abundant number).\n",
    "\n",
    "A key aspect of making this a performant approach is to iterate over a sorted list, but to use a set to check for inclusion; using a list for both causes the running time to baloon up, as finding an item in a Python list is typically O(n), whereas checking for inclusion in a Python set is normally O(1). For comparison, the find_sum_of_non_abundant function takes a parameter which allows for the use of a list. As can be seen from the timing results below, naively using a list instead of a set makes the calculation extremely slow."
   ]
  },
  {
   "cell_type": "code",
   "execution_count": 1,
   "metadata": {},
   "outputs": [],
   "source": [
    "def d(num):\n",
    "    if num == 1:\n",
    "        return 1\n",
    "    divisors = [1]\n",
    "    # iterate up to the square root of num\n",
    "    for n in range(2, int(num**0.5 + 1.5)):\n",
    "        if num % n == 0:\n",
    "            divisors.append(n)\n",
    "            if n != num // n:\n",
    "                divisors.append(num // n)\n",
    "    return sum(divisors)\n",
    "\n",
    "\n",
    "def find_abundant_numbers(limit):\n",
    "    abundant_numbers = {}\n",
    "    for n in range(1, limit + 1):\n",
    "        sum_of_factors = d(n)\n",
    "        if sum_of_factors > n:\n",
    "            abundant_numbers[n] = sum_of_factors\n",
    "    return abundant_numbers\n",
    "\n",
    "\n",
    "def find_sum_of_non_abundant(limit, use_list=False):\n",
    "    abundant_list = sorted(find_abundant_numbers(limit))\n",
    "    abundant_numbers = set(abundant_list) if not use_list else abundant_list\n",
    "            \n",
    "    def is_sum_of_non_abundant(num):\n",
    "        for n in abundant_list:\n",
    "            if (num - n) in abundant_numbers:\n",
    "                return True\n",
    "            elif n > num / 2:\n",
    "                # if n is greater than 1/2 num, if num were the sum of abundants,\n",
    "                # the function would already have returned true when the loop \n",
    "                # variable had the value (num - n).\n",
    "                return False\n",
    "        return False\n",
    "        \n",
    "    total = 0\n",
    "    for n in range(1, limit + 1):\n",
    "        if not is_sum_of_non_abundant(n):\n",
    "            total += n\n",
    "    return total"
   ]
  },
  {
   "cell_type": "code",
   "execution_count": 2,
   "metadata": {},
   "outputs": [
    {
     "name": "stdout",
     "output_type": "stream",
     "text": [
      "Timed Results:\n",
      "\tList Method:\n",
      "\t\tResult: 4179871, obtained in 289.336107 seconds\n",
      "\tSet Method:\n",
      "\t\tResult: 4179871, obtained in 0.660231 seconds\n"
     ]
    }
   ],
   "source": [
    "# Running and timing the approaches:\n",
    "from utils import computation_timer\n",
    "\n",
    "results = computation_timer({'name':'List Method',\n",
    "                             'func': lambda: find_sum_of_non_abundant(28123, True)},\n",
    "                            {'name':'Set Method',\n",
    "                             'func': lambda: find_sum_of_non_abundant(28123)})\n",
    "print(\"Timed Results:\")\n",
    "for result in results:\n",
    "    print(\"\\t%s:\" % result['name'])\n",
    "    print(\"\\t\\tResult: %d, obtained in %f seconds\" % (result['result'], result['running_time']))"
   ]
  }
 ],
 "metadata": {
  "kernelspec": {
   "display_name": "Python 3",
   "language": "python",
   "name": "python3"
  },
  "language_info": {
   "codemirror_mode": {
    "name": "ipython",
    "version": 3
   },
   "file_extension": ".py",
   "mimetype": "text/x-python",
   "name": "python",
   "nbconvert_exporter": "python",
   "pygments_lexer": "ipython3",
   "version": "3.6.6"
  }
 },
 "nbformat": 4,
 "nbformat_minor": 2
}
