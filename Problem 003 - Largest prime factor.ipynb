{
 "cells": [
  {
   "cell_type": "markdown",
   "metadata": {},
   "source": [
    "# Problem 3\n",
    "## Largest prime factor\n",
    "------\n",
    "\n",
    "The prime factors of 13195 are 5, 7, 13 and 29.\n",
    "\n",
    "*What is the largest prime factor of the number 600851475143?*\n",
    "\n",
    "---\n",
    "Correct result: **6857**"
   ]
  },
  {
   "cell_type": "code",
   "execution_count": 1,
   "metadata": {},
   "outputs": [],
   "source": [
    "import math\n",
    "\n",
    "def factorization_method(num):\n",
    "    largest_factor = 1\n",
    "    remainder = num\n",
    "    n = 2\n",
    "    while (n <= remainder):\n",
    "        if (remainder % n != 0):\n",
    "            n += 1\n",
    "            continue\n",
    "        largest_factor = n\n",
    "        remainder /= n\n",
    "    return largest_factor\n",
    "\n",
    "from math import sqrt\n",
    "def factorization_method2(num):\n",
    "    largest_factor = 1\n",
    "    remainder = num\n",
    "    n = 2\n",
    "    sqrt_num = sqrt(num)\n",
    "    while (n <= remainder and n <= sqrt_num):\n",
    "        if (remainder % n != 0):\n",
    "            n += 1\n",
    "            continue\n",
    "        largest_factor = n\n",
    "        remainder /= n\n",
    "    largest_factor = largest_factor if largest_factor != 1 else num\n",
    "    return largest_factor"
   ]
  },
  {
   "cell_type": "markdown",
   "metadata": {},
   "source": [
    "### Discussion\n",
    "\n",
    "For this problem, there are two only slightly different algorithms presented. The first loops from $2$ to the current remainder left from the number, dividing out each number until it no longer divides the remainder and then continuing to the next potential factor. Each divisor $d$ of $n$ found in this way will be prime, because if $d$ were not prime, its respective divisors would need to be both smaller than $d$ and also divisors of $n$. But all divisors of $n$ smaller than $d$ will already have been divided out by earlier iterations of the loop.\n",
    "\n",
    "The second method is different only in that it makes a second comparison on each run through the while loop, making sure that the current potential divisor is less than the square root of the number. If it reaches $\\sqrt{n}$ without finding a factor, it then concludes that the number is prime. For a number with many divisors, this will be slightly slower due to the extra checks, but in the case in which the number is a large prime it will be significantly faster: the first method will then run through the loop $n$ times, whereas the second only $\\sqrt{n}$ times.\n",
    "\n",
    "For the specific number given for the problem, the first method is slightly faster. However, I have added a demonstration of the large differences which can occur if the number is prime, even one which is not inordinately large, such as 49,979,687.\n",
    "\n",
    "An additional consideration is that, if the algorithm was likely to be used many times on different values, a precomputed list of primes could also be used to speed up each individual run, at the one-time cost of precomputing the primes."
   ]
  },
  {
   "cell_type": "code",
   "execution_count": 2,
   "metadata": {},
   "outputs": [
    {
     "name": "stdout",
     "output_type": "stream",
     "text": [
      "Timed Results:\n",
      "\tStraightforward Method:\n",
      "\t\tResult: 6857, obtained in 0.000976 seconds\n",
      "\tPrime Robust Method:\n",
      "\t\tResult: 6857, obtained in 0.001347 seconds\n"
     ]
    }
   ],
   "source": [
    "# Running and timing the alternative approaches:\n",
    "from utils import computation_timer\n",
    "\n",
    "num = 600851475143\n",
    "results = computation_timer({'name':'Straightforward Method', 'func': lambda: factorization_method(num)},\n",
    "                            {'name':'Prime Robust Method', 'func': lambda: factorization_method2(num)})\n",
    "print(\"Timed Results:\")\n",
    "for result in results:\n",
    "    print(\"\\t%s:\" % result['name'])\n",
    "    print(\"\\t\\tResult: %d, obtained in %f seconds\" % (result['result'], result['running_time']))\n"
   ]
  },
  {
   "cell_type": "code",
   "execution_count": 3,
   "metadata": {},
   "outputs": [
    {
     "name": "stdout",
     "output_type": "stream",
     "text": [
      "Timed Results:\n",
      "\tStraightforward Method:\n",
      "\t\tResult: 49979687, obtained in 4.504847 seconds\n",
      "\tPrime Robust Method:\n",
      "\t\tResult: 49979687, obtained in 0.000927 seconds\n"
     ]
    }
   ],
   "source": [
    "num = 49979687\n",
    "results = computation_timer({'name':'Straightforward Method', 'func': lambda: factorization_method(num)},\n",
    "                            {'name':'Prime Robust Method', 'func': lambda: factorization_method2(num)})\n",
    "print(\"Timed Results:\")\n",
    "for result in results:\n",
    "    print(\"\\t%s:\" % result['name'])\n",
    "    print(\"\\t\\tResult: %d, obtained in %f seconds\" % (result['result'], result['running_time']))\n"
   ]
  }
 ],
 "metadata": {
  "kernelspec": {
   "display_name": "Python 3",
   "language": "python",
   "name": "python3"
  },
  "language_info": {
   "codemirror_mode": {
    "name": "ipython",
    "version": 3
   },
   "file_extension": ".py",
   "mimetype": "text/x-python",
   "name": "python",
   "nbconvert_exporter": "python",
   "pygments_lexer": "ipython3",
   "version": "3.6.6"
  }
 },
 "nbformat": 4,
 "nbformat_minor": 2
}
