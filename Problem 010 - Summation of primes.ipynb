{
 "cells": [
  {
   "cell_type": "markdown",
   "metadata": {},
   "source": [
    "# Problem 10\n",
    "## Summation of primes\n",
    "------\n",
    "\n",
    "The sum of the primes below 10 is $2 + 3 + 5 + 7 = 17$.\n",
    "\n",
    "Find the sum of all the primes below two million.\n",
    "\n",
    "---\n",
    "\n",
    "Correct result: **142913828922**"
   ]
  },
  {
   "cell_type": "code",
   "execution_count": 1,
   "metadata": {},
   "outputs": [],
   "source": [
    "def division_test_method(num):\n",
    "    primes = [2, 3]\n",
    "    total = sum(primes)\n",
    "    next_int = primes[-1]\n",
    "    while next_int < num - 1:\n",
    "        next_int += 2\n",
    "        is_prime = True\n",
    "        for prime in primes:\n",
    "            if next_int % prime == 0:\n",
    "                is_prime = False\n",
    "                break\n",
    "        if is_prime:\n",
    "            primes.append(next_int)\n",
    "            total += next_int\n",
    "    return total\n",
    "\n",
    "from math import floor\n",
    "\n",
    "def sieve_method(upper_bound):\n",
    "    bools = [False, False, True, True] + [False, True] * ((upper_bound - 1) // 2)\n",
    "    sieve = dict(zip(range(0, upper_bound + 1), bools))\n",
    "    for n in range(3, floor((upper_bound + 1) // 2)):\n",
    "        for m in range(2, upper_bound // n + 1):\n",
    "            sieve[n * m] = False\n",
    "    return sum(k for k, v in sieve.items() if v)"
   ]
  },
  {
   "cell_type": "markdown",
   "metadata": {},
   "source": [
    "### Discussion\n",
    "\n",
    "As in Problem 7, we can use the sieve method to improve upon a straightforward division test method. When summing all primes below 2 million, the sieve method allows the calculation to finish within a reasonable time, while a division test takes several minutes to complete."
   ]
  },
  {
   "cell_type": "code",
   "execution_count": 2,
   "metadata": {},
   "outputs": [
    {
     "name": "stdout",
     "output_type": "stream",
     "text": [
      "Timed Results:\n",
      "\tDivision test method:\n",
      "\t\tResult: 142913828922, obtained in 600.655712 seconds\n",
      "\tSieve method:\n",
      "\t\tResult: 142913828922, obtained in 6.931424 seconds\n"
     ]
    }
   ],
   "source": [
    "# Running and timing this approach:\n",
    "\n",
    "from utils import computation_timer\n",
    "\n",
    "results = computation_timer({'name':'Division test method', 'func': lambda: division_test_method(2_000_000)},\n",
    "                            {'name':'Sieve method', 'func': lambda: sieve_method(2_000_000)})\n",
    "print(\"Timed Results:\")\n",
    "for result in results:\n",
    "    print(\"\\t%s:\" % result['name'])\n",
    "    print(\"\\t\\tResult: %s, obtained in %f seconds\" % (result['result'], result['running_time']))\n"
   ]
  }
 ],
 "metadata": {
  "kernelspec": {
   "display_name": "Python 3",
   "language": "python",
   "name": "python3"
  },
  "language_info": {
   "codemirror_mode": {
    "name": "ipython",
    "version": 3
   },
   "file_extension": ".py",
   "mimetype": "text/x-python",
   "name": "python",
   "nbconvert_exporter": "python",
   "pygments_lexer": "ipython3",
   "version": "3.6.6"
  }
 },
 "nbformat": 4,
 "nbformat_minor": 2
}
