{
 "cells": [
  {
   "cell_type": "markdown",
   "metadata": {},
   "source": [
    "# Problem 1\n",
    "## Multiples of 3 and 5\n",
    "------\n",
    "\n",
    "If we list all the natural numbers below 10 that are multiples of 3 or 5, we get 3, 5, 6 and 9. The sum of these multiples is 23.\n",
    "\n",
    "*Find the sum of all the multiples of 3 or 5 below 1000.*\n",
    "\n",
    "---\n",
    "Correct result: **233168**"
   ]
  },
  {
   "cell_type": "markdown",
   "metadata": {},
   "source": [
    "### Naive method\n",
    "\n",
    "The simplest approach is to run through the range from 1 to 1000, checking each number individually to see if it is a multiple of 3 or 5 and then adding it to the sum if so. This will run in O(n) time."
   ]
  },
  {
   "cell_type": "code",
   "execution_count": 1,
   "metadata": {},
   "outputs": [],
   "source": [
    "def naive_method(max):\n",
    "    sum = 0\n",
    "    for num in range(1, max):\n",
    "        if num % 3 == 0 or num % 5 == 0:\n",
    "            sum += num\n",
    "    return sum"
   ]
  },
  {
   "cell_type": "markdown",
   "metadata": {},
   "source": [
    "### Improved method\n",
    "\n",
    "A better option is to make use of the well-known result for the sum of the numbers from 1 to n that:\n",
    "$$\\sum_{i=1}^n = \\frac{n(n + 1)}{2}$$\n",
    "\n",
    "It follows from this that the sum of the first n multiples of m is:\n",
    "$$m \\times 1 + m \\times 2 + m \\times 3 +... m \\times n = m\\sum_{i=1}^n = \\frac{mn(n + 1)}{2}$$\n",
    "\n",
    "We can therefore calculate the sum of the multiples of 3 and 5 by using this formula for the multiples of each 3 and 5 separately, adding these together, and then subtracting the sum of the common multiples (i.e. multiples of 15). This reduces the problem to a constant number of products and sums independent of the size of the upper bound, and so should run in constant time."
   ]
  },
  {
   "cell_type": "code",
   "execution_count": 2,
   "metadata": {},
   "outputs": [],
   "source": [
    "\n",
    "\n",
    "def sum_multiples(mult, max):\n",
    "    # max is decremented because we are only summing values strictly less than the provided max\n",
    "    max -= 1\n",
    "    return mult * (max // mult) * ((max // mult) + 1) // 2\n",
    "\n",
    "def final_method(max):\n",
    "    return sum_multiples(3, max) + sum_multiples(5, max) - sum_multiples(15, max)\n"
   ]
  },
  {
   "cell_type": "code",
   "execution_count": 3,
   "metadata": {},
   "outputs": [
    {
     "name": "stdout",
     "output_type": "stream",
     "text": [
      "Timed Results:\n",
      "\tNaive Method:\n",
      "\t\tResult: 233168, obtained in 0.000099 seconds\n",
      "\tFinal Method:\n",
      "\t\tResult: 233168, obtained in 0.000003 seconds\n"
     ]
    }
   ],
   "source": [
    "# Running and timing the alternative approaches:\n",
    "from utils import computation_timer\n",
    "\n",
    "max = 1000\n",
    "results = computation_timer({'name':'Naive Method', 'func': lambda: naive_method(max)},\n",
    "                            {'name':'Final Method', 'func': lambda: final_method(max)})\n",
    "print(\"Timed Results:\")\n",
    "for result in results:\n",
    "    print(\"\\t%s:\" % result['name'])\n",
    "    print(\"\\t\\tResult: %d, obtained in %f seconds\" % (result['result'], result['running_time']))"
   ]
  },
  {
   "cell_type": "markdown",
   "metadata": {},
   "source": [
    "Note that for larger max values, the difference in times quickly becomes more pronounced, as would be predicated by the former running in O(n) time and the later in constant time. For example, with a max of 1 million, the difference is already several orders of magnitude:"
   ]
  },
  {
   "cell_type": "code",
   "execution_count": 4,
   "metadata": {},
   "outputs": [
    {
     "name": "stdout",
     "output_type": "stream",
     "text": [
      "Timed Results:\n",
      "\tNaive Method:\n",
      "\t\tResult: 233333166668, obtained in 0.094170 seconds\n",
      "\tFinal Method:\n",
      "\t\tResult: 233333166668, obtained in 0.000006 seconds\n"
     ]
    }
   ],
   "source": [
    "max = 1_000_000\n",
    "\n",
    "results = computation_timer({'name':'Naive Method', 'func': lambda: naive_method(max)},\n",
    "                            {'name':'Final Method', 'func': lambda: final_method(max)})\n",
    "print(\"Timed Results:\")\n",
    "for result in results:\n",
    "    print(\"\\t%s:\" % result['name'])\n",
    "    print(\"\\t\\tResult: %d, obtained in %f seconds\" % (result['result'], result['running_time']))"
   ]
  }
 ],
 "metadata": {
  "kernelspec": {
   "display_name": "Python 3",
   "language": "python",
   "name": "python3"
  },
  "language_info": {
   "codemirror_mode": {
    "name": "ipython",
    "version": 3
   },
   "file_extension": ".py",
   "mimetype": "text/x-python",
   "name": "python",
   "nbconvert_exporter": "python",
   "pygments_lexer": "ipython3",
   "version": "3.6.6"
  }
 },
 "nbformat": 4,
 "nbformat_minor": 2
}
