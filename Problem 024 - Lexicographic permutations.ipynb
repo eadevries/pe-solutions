{
 "cells": [
  {
   "cell_type": "markdown",
   "metadata": {},
   "source": [
    "# Problem 24#\n",
    "##  Lexicographic permutations\n",
    "------\n",
    "\n",
    "A permutation is an ordered arrangement of objects. For example, 3124 is one possible permutation of the digits 1, 2, 3 and 4. If all of the permutations are listed numerically or alphabetically, we call it lexicographic order. The lexicographic permutations of 0, 1 and 2 are:\n",
    "\n",
    "$$012\\hspace{5mm}021\\hspace{5mm}102\\hspace{5mm}120\\hspace{5mm}201\\hspace{5mm}210$$\n",
    "\n",
    "*What is the millionth lexicographic permutation of the digits 0, 1, 2, 3, 4, 5, 6, 7, 8 and 9?*\n",
    "\n",
    "---\n",
    "Correct result: **2783915460**"
   ]
  },
  {
   "cell_type": "markdown",
   "metadata": {},
   "source": [
    "### Discussion\n",
    "\n",
    "The straightforward, but quite slow, way to find the nth permutation would be to first calculate an ordered list of those permutations, and then find the 1,000,000th permutation. This can be done by building up the permutations digit by digit.\n",
    "\n",
    "A much faster calculation can be done by considering how the digits change as we add certain numbers of permutations. For example, there are $n!$ ways to arrange $n$ digits, and in particular there are $9! = 362880$ ways to arrange nine digits. This means that if the first permutation is $0123456789$, then $1023456789$ will be the 362881st permutation (the next permutation after all the permutations with a $0$ in the first position, of which there will be $9!$). Similarly, $2013456789$ is the 725761st permutation ($9! \\cdot 2 + 1 = 725761$). Similarly, if we add $8! = 40320$ permutations, it will change the second digit to the next higher digit available to its right. The same is true for adding $7!$ permutations with respect to the third digit, and so on.\n",
    "\n",
    "We can make use of this by decomposing 999,999 into a sum of multiples of these factorial values, and then changing the digits according to the rules mentioned above. (We use 999,999 because the rules above tell us about the digits of the _next_ permutation—in this case, the 1,000,000th.) To exemplify the process, I have included a version of the algorithm which prints out each step of this decomposition (a version without these prints is used for timing the algorithm)."
   ]
  },
  {
   "cell_type": "code",
   "execution_count": 1,
   "metadata": {},
   "outputs": [
    {
     "name": "stdout",
     "output_type": "stream",
     "text": [
      "Initial digits: 0123456789\n",
      "\n",
      "Adding digit 2 from index 2 of remaining digits: 2 013456789 \n",
      "\n",
      "Adding digit 7 from index 6 of remaining digits: 27 01345689 \n",
      "\n",
      "Adding digit 8 from index 6 of remaining digits: 278 0134569 \n",
      "\n",
      "Adding digit 3 from index 2 of remaining digits: 2783 014569 \n",
      "\n",
      "Adding digit 9 from index 5 of remaining digits: 27839 01456 \n",
      "\n",
      "Adding digit 1 from index 1 of remaining digits: 278391 0456 \n",
      "\n",
      "Adding digit 5 from index 2 of remaining digits: 2783915 046 \n",
      "\n",
      "Adding digit 4 from index 1 of remaining digits: 27839154 06 \n",
      "\n",
      "Adding digit 6 from index 1 of remaining digits: 278391546 0 \n",
      "\n",
      "Result: 2783915460\n"
     ]
    }
   ],
   "source": [
    "from math import factorial\n",
    "\n",
    "def find_nth_permutation_with_steps(perm_num):\n",
    "    factorial_list = []\n",
    "    remainder = perm_num - 1\n",
    "    for n in range(9, 0, -1):\n",
    "        factorial_list.append(remainder // factorial(n))\n",
    "        remainder %= factorial_list[-1] * factorial(n)\n",
    "    target_permutation = \"\"\n",
    "    remaining = \"0123456789\"\n",
    "    print(\"Initial digits: {}\\n\".format(remaining))\n",
    "    for fact in factorial_list:\n",
    "        target_permutation += remaining[fact]\n",
    "        remaining = remaining[:fact] + remaining[fact + 1:]\n",
    "        print(\"Adding digit {} from index {} of remaining digits:\".format(target_permutation[-1], fact), \n",
    "                                                                          target_permutation, remaining, \"\\n\")\n",
    "    target_permutation += remaining\n",
    "    print(\"Result:\", target_permutation)\n",
    "    \n",
    "find_nth_permutation_with_steps(1000000)"
   ]
  },
  {
   "cell_type": "code",
   "execution_count": 2,
   "metadata": {},
   "outputs": [],
   "source": [
    "def find_nth_permutation(perm_num):\n",
    "    factorial_list = []\n",
    "    remainder = perm_num - 1\n",
    "    for n in range(9, 0, -1):\n",
    "        fact_n = factorial(n)\n",
    "        factorial_list.append(remainder // fact_n)\n",
    "        remainder %= factorial_list[-1] * fact_n\n",
    "    target_permutation = \"\"\n",
    "    remaining = \"0123456789\"\n",
    "    for fact in factorial_list:\n",
    "        target_permutation += remaining[fact]\n",
    "        remaining = remaining[:fact] + remaining[fact + 1:]\n",
    "    target_permutation += remaining\n",
    "    return target_permutation\n",
    "    "
   ]
  },
  {
   "cell_type": "code",
   "execution_count": 3,
   "metadata": {},
   "outputs": [
    {
     "name": "stdout",
     "output_type": "stream",
     "text": [
      "Timed Results:\n",
      "\tDecomposition Method:\n",
      "\t\tResult: 2783915460, obtained in 0.000013 seconds\n"
     ]
    }
   ],
   "source": [
    "# Running and timing the approach:\n",
    "from utils import computation_timer\n",
    "\n",
    "results = computation_timer({'name':'Decomposition Method', 'func': lambda: find_nth_permutation(1000000)})\n",
    "print(\"Timed Results:\")\n",
    "for result in results:\n",
    "    print(\"\\t%s:\" % result['name'])\n",
    "    print(\"\\t\\tResult: %s, obtained in %f seconds\" % (result['result'], result['running_time']))"
   ]
  }
 ],
 "metadata": {
  "kernelspec": {
   "display_name": "Python 3",
   "language": "python",
   "name": "python3"
  },
  "language_info": {
   "codemirror_mode": {
    "name": "ipython",
    "version": 3
   },
   "file_extension": ".py",
   "mimetype": "text/x-python",
   "name": "python",
   "nbconvert_exporter": "python",
   "pygments_lexer": "ipython3",
   "version": "3.6.6"
  }
 },
 "nbformat": 4,
 "nbformat_minor": 2
}
