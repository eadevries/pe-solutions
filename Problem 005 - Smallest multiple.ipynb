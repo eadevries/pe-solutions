{
 "cells": [
  {
   "cell_type": "markdown",
   "metadata": {},
   "source": [
    "# Problem 5\n",
    "##  Smallest multiple\n",
    "------\n",
    "2520 is the smallest number that can be divided by each of the numbers from 1 to 10 without any remainder.\n",
    "\n",
    "What is the smallest positive number that is evenly divisible by all of the numbers from 1 to 20?\n",
    "\n",
    "---\n",
    "Correct result: **232792560**"
   ]
  },
  {
   "cell_type": "markdown",
   "metadata": {},
   "source": [
    "### Discussion:\n",
    "The smallest postive number divisible by any given set of numbers will be the number for which the prime factorization contains the prime factorizations for each of the numbers in turn, eliminating unnecessary duplicates.\n",
    "\n",
    "The factors of the numbers 1 to 20 are:\n",
    "2: 2\n",
    "\n",
    "3: 3\n",
    "\n",
    "4: 2 \\* 2\n",
    "\n",
    "5: 5\n",
    "\n",
    "6: 3 \\* 2\n",
    "\n",
    "7: 7\n",
    "\n",
    "8: 2 \\* 2 \\* 2\n",
    "\n",
    "9: 3 \\* 3\n",
    "\n",
    "10: 2 \\* 5\n",
    "\n",
    "11: 11\n",
    "\n",
    "12: 3 \\* 2 \\* 2\n",
    "\n",
    "13: 13\n",
    "\n",
    "14: 2 \\* 7\n",
    "\n",
    "15: 3 \\* 5\n",
    "\n",
    "16: 2 \\* 2 \\* 2 \\* 2\n",
    "\n",
    "17: 17\n",
    "\n",
    "18: 2 \\* 3 \\* 3\n",
    "\n",
    "19: 19\n",
    "\n",
    "20: 2 \\* 2 \\* 5\n",
    "\n",
    "We then collect the factors by going through each of the above, and creating a product with whatever prime factors are needed to make the next number also a factor of that product. This produces:"
   ]
  },
  {
   "cell_type": "code",
   "execution_count": 1,
   "metadata": {},
   "outputs": [
    {
     "data": {
      "text/plain": [
       "232792560"
      ]
     },
     "execution_count": 1,
     "metadata": {},
     "output_type": "execute_result"
    }
   ],
   "source": [
    "2 * 2 * 2 * 2 * 3 * 3 * 5 * 7 * 11 * 13 * 17 * 19"
   ]
  },
  {
   "cell_type": "markdown",
   "metadata": {},
   "source": [
    "For this particular case, this is all that is needed, but we could automate the process for any list of positive integers as follows:"
   ]
  },
  {
   "cell_type": "code",
   "execution_count": 2,
   "metadata": {},
   "outputs": [],
   "source": [
    "def prime_factorization(num):\n",
    "    factors = []\n",
    "    if num in (1, 2):\n",
    "        return [num]\n",
    "    \n",
    "    for n in range(2, num + 1):\n",
    "        while n <= num and num % n == 0:\n",
    "            factors.append(n)\n",
    "            num /= n\n",
    "    return factors\n",
    "\n",
    "def smallest_multiple(nums):\n",
    "    factors = dict()\n",
    "    for num in nums:\n",
    "        pf = prime_factorization(num)\n",
    "        for prime in set(pf):\n",
    "            times = pf.count(prime)\n",
    "            if prime not in factors or factors[prime] < times:\n",
    "                factors[prime] = times\n",
    "    product = 1\n",
    "    for k, v in factors.items():\n",
    "        product *= k**v\n",
    "    return product"
   ]
  },
  {
   "cell_type": "code",
   "execution_count": 3,
   "metadata": {},
   "outputs": [
    {
     "name": "stdout",
     "output_type": "stream",
     "text": [
      "Timed Results:\n",
      "\tAutomated method:\n",
      "\t\tResult: 232792560, obtained in 0.000066 seconds\n"
     ]
    }
   ],
   "source": [
    "# Running and timing the automated approach:\n",
    "\n",
    "from utils import computation_timer\n",
    "\n",
    "result = computation_timer({'name':'Automated method', 'func': lambda: smallest_multiple(range(2, 21))})[0]\n",
    "print(\"Timed Results:\")\n",
    "print(\"\\t%s:\" % result['name'])\n",
    "print(\"\\t\\tResult: %s, obtained in %f seconds\" % (result['result'], result['running_time']))"
   ]
  },
  {
   "cell_type": "markdown",
   "metadata": {},
   "source": [
    "This method is still fast when finding the smallest multiple of the numbers from 1 to 50, though the result grows incredibly quickly:"
   ]
  },
  {
   "cell_type": "code",
   "execution_count": 4,
   "metadata": {},
   "outputs": [
    {
     "name": "stdout",
     "output_type": "stream",
     "text": [
      "Timed Results:\n",
      "\tAutomated method:\n",
      "\t\tResult: 3099044504245996706400, obtained in 0.000171 seconds\n"
     ]
    }
   ],
   "source": [
    "result = computation_timer({'name':'Automated method', 'func': lambda: smallest_multiple(range(2, 51))})[0]\n",
    "print(\"Timed Results:\")\n",
    "print(\"\\t%s:\" % result['name'])\n",
    "print(\"\\t\\tResult: %s, obtained in %f seconds\" % (result['result'], result['running_time']))"
   ]
  }
 ],
 "metadata": {
  "kernelspec": {
   "display_name": "Python 3",
   "language": "python",
   "name": "python3"
  },
  "language_info": {
   "codemirror_mode": {
    "name": "ipython",
    "version": 3
   },
   "file_extension": ".py",
   "mimetype": "text/x-python",
   "name": "python",
   "nbconvert_exporter": "python",
   "pygments_lexer": "ipython3",
   "version": "3.6.6"
  }
 },
 "nbformat": 4,
 "nbformat_minor": 2
}
