{
 "cells": [
  {
   "cell_type": "markdown",
   "metadata": {},
   "source": [
    "# Problem 21\n",
    "##  Amicable numbers\n",
    "------\n",
    "\n",
    "Let $d(n)$ be defined as the sum of proper divisors of n (numbers less than n which divide evenly into n).\n",
    "If $d(a) = b$ and $d(b) = a$, where $a \\ne b$, then a and b are an amicable pair and each of a and b are called amicable numbers.\n",
    "\n",
    "For example, the proper divisors of 220 are 1, 2, 4, 5, 10, 11, 20, 22, 44, 55 and 110; therefore $d(220) = 284$. The proper divisors of 284 are 1, 2, 4, 71 and 142; so $d(284) = 220$.\n",
    "\n",
    "*Evaluate the sum of all the amicable numbers under 10000.*\n",
    "\n",
    "---\n",
    "Correct result: **31626**"
   ]
  },
  {
   "cell_type": "markdown",
   "metadata": {},
   "source": [
    "### Discussion\n",
    "\n",
    "Our approach starts with a function which gets the proper divisors of each number. These divisors are summed to get the corresponding value of $d$. To find the sum of only the amicable numbers in the given range, we iterate up to the provided bound, checking if $d(d(n)) = n$, and that $d(n) \\ge n$ (so that each pair is only added once). If these conditions are met, we add it to the total.\n",
    "\n",
    "We can make a very slight improvement to the running time at the cost of memory usage by memoizing the values of $d$, so that if two or more numbers' proper divisors have the same sum, we do not calculate the d of that sum more than once."
   ]
  },
  {
   "cell_type": "code",
   "execution_count": 1,
   "metadata": {},
   "outputs": [],
   "source": [
    "def get_proper_divisors(num):\n",
    "    if num == 1:\n",
    "        return [1]\n",
    "    divisors = [1]\n",
    "    # iterate up to the square root of num\n",
    "    for n in range(2, int(num**0.5 + 1.5)):\n",
    "        if num % n == 0:\n",
    "            divisors.append(n)\n",
    "            if n != num // n:\n",
    "                divisors.append(num // n)\n",
    "    return divisors\n",
    "\n",
    "\n",
    "def d(n):\n",
    "    return sum(get_proper_divisors(n))\n",
    "\n",
    "\n",
    "def d_memoized(n, memo):\n",
    "    if n not in memo:\n",
    "        memo[n] = sum(get_proper_divisors(n))\n",
    "    return memo[n]\n",
    "\n",
    "\n",
    "def sum_amicable_pairs(ub=10000):\n",
    "    sum = 0\n",
    "    for n in range(ub):\n",
    "        d_n = d(n)\n",
    "        if d_n > n and d_n < ub and d(d_n) == n:\n",
    "            sum += n + d_n\n",
    "    return sum\n",
    "\n",
    "\n",
    "def sum_amicable_pairs_memoized(ub=10000):\n",
    "    sum = 0\n",
    "    memo = {}\n",
    "    for n in range(ub):\n",
    "        d_n = d_memoized(n, memo)\n",
    "        if d_n > n and d_n < ub and d_memoized(d_n, memo) == n:\n",
    "            sum += n + d_n\n",
    "    return sum"
   ]
  },
  {
   "cell_type": "code",
   "execution_count": 2,
   "metadata": {},
   "outputs": [
    {
     "name": "stdout",
     "output_type": "stream",
     "text": [
      "Timed Results:\n",
      "\tStraightforward Method:\n",
      "\t\tResult: 31626, obtained in 0.054753 seconds\n",
      "\tMemoized Method:\n",
      "\t\tResult: 31626, obtained in 0.045909 seconds\n"
     ]
    }
   ],
   "source": [
    "# Running and timing the alternative approaches:\n",
    "from utils import computation_timer\n",
    "\n",
    "results = computation_timer({'name':'Straightforward Method', 'func': sum_amicable_pairs},\n",
    "                            {'name':'Memoized Method', 'func': sum_amicable_pairs_memoized})\n",
    "print(\"Timed Results:\")\n",
    "for result in results:\n",
    "    print(\"\\t%s:\" % result['name'])\n",
    "    print(\"\\t\\tResult: %d, obtained in %f seconds\" % (result['result'], result['running_time']))"
   ]
  }
 ],
 "metadata": {
  "kernelspec": {
   "display_name": "Python 3",
   "language": "python",
   "name": "python3"
  },
  "language_info": {
   "codemirror_mode": {
    "name": "ipython",
    "version": 3
   },
   "file_extension": ".py",
   "mimetype": "text/x-python",
   "name": "python",
   "nbconvert_exporter": "python",
   "pygments_lexer": "ipython3",
   "version": "3.6.6"
  }
 },
 "nbformat": 4,
 "nbformat_minor": 2
}
