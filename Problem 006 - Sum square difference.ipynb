{
 "cells": [
  {
   "cell_type": "markdown",
   "metadata": {},
   "source": [
    "# Problem 6\n",
    "## Sum square differences\n",
    "------\n",
    "\n",
    "The sum of the squares of the first ten natural numbers is\n",
    "\n",
    "$$1^2 + 2^2 +\\hspace{3mm}...\\hspace{3mm}+ 10^2 = 385$$\n",
    "\n",
    "The square of the sum of the first ten natural numbers is\n",
    "\n",
    "$$(1 + 2 +\\hspace{3mm}...\\hspace{3mm}+ 10)^2 = 552 = 3025$$\n",
    "\n",
    "Hence the difference between the sum of the squares of the first ten natural numbers and the square of the sum is $3025 − 385 = 2640$.\n",
    "\n",
    "Find the difference between the sum of the squares of the first one hundred natural numbers and the square of the sum.\n",
    "\n",
    "---\n",
    "\n",
    "Answer: **25164150**"
   ]
  },
  {
   "cell_type": "markdown",
   "metadata": {},
   "source": [
    "### Discussion\n",
    "\n",
    "To solve this problem, we can straightforwardly sum each term for a solution with a running time proportional to n, but there is also a (constant time) closed form solution for each term. The sum of the first n positive numbers and the sum of their squares are known to be, respectively:\n",
    "\n",
    "$$\\sum_{j=1}^{n}j = \\frac{n \\cdot (n + 1)}{2}$$\n",
    "$$\\sum_{j=1}^{n}j^2 = \\frac{n \\cdot (n + 1) \\cdot (2n + 1)}{6}$$\n",
    "\n",
    "We can directly use the latter to compute the first term, and then compute the second term by squaring the formula for the former:\n",
    "\n",
    "$$(\\sum_{j=1}^{n}j)^2 = (\\frac{n \\cdot (n + 1)}{2})^2$$"
   ]
  },
  {
   "cell_type": "code",
   "execution_count": 1,
   "metadata": {},
   "outputs": [
    {
     "data": {
      "text/plain": [
       "25164150"
      ]
     },
     "execution_count": 1,
     "metadata": {},
     "output_type": "execute_result"
    }
   ],
   "source": [
    "def straightforward_method(num):\n",
    "    sum_of_squares = 0\n",
    "    sum_to_be_squared = 0\n",
    "    for n in range(1, num + 1):\n",
    "        sum_of_squares += n**2\n",
    "        sum_to_be_squared += n\n",
    "    return sum_to_be_squared**2 - sum_of_squares\n",
    "\n",
    "def improved_method(num):\n",
    "    square_of_sum = (num * (num + 1) // 2) ** 2\n",
    "    sum_of_squares = (num * (num + 1) * (2 * num + 1)) // 6\n",
    "    return square_of_sum - sum_of_squares\n",
    "improved_method(100)"
   ]
  },
  {
   "cell_type": "code",
   "execution_count": 2,
   "metadata": {},
   "outputs": [
    {
     "name": "stdout",
     "output_type": "stream",
     "text": [
      "Timed Results:\n",
      "\tStraightforward method:\n",
      "\t\tResult: 25164150, obtained in 0.000040 seconds\n",
      "\tImproved method:\n",
      "\t\tResult: 25164150, obtained in 0.000002 seconds\n"
     ]
    }
   ],
   "source": [
    "# Running and timing the straightforward approach:\n",
    "\n",
    "from utils import computation_timer\n",
    "upper_bound = 100\n",
    "results = computation_timer({'name': 'Straightforward method', 'func': lambda: straightforward_method(upper_bound)},\n",
    "                            {'name': 'Improved method', 'func': lambda: improved_method(upper_bound)})\n",
    "print(\"Timed Results:\")\n",
    "for result in results:\n",
    "    print(\"\\t%s:\" % result['name'])\n",
    "    print(\"\\t\\tResult: %s, obtained in %f seconds\" % (result['result'], result['running_time']))"
   ]
  },
  {
   "cell_type": "markdown",
   "metadata": {
    "collapsed": true
   },
   "source": [
    "The improvement becomes much more apparent if we continue to larger numbers, as the running time for the slower method naturally increases proportionally to the upper bound we choose:"
   ]
  },
  {
   "cell_type": "code",
   "execution_count": 3,
   "metadata": {},
   "outputs": [
    {
     "name": "stdout",
     "output_type": "stream",
     "text": [
      "Timed Results:\n",
      "\tStraightforward method:\n",
      "\t\tResult: 250000166666416666500000, obtained in 0.396927 seconds\n",
      "\tImproved method:\n",
      "\t\tResult: 250000166666416666500000, obtained in 0.000005 seconds\n"
     ]
    }
   ],
   "source": [
    "upper_bound = 1_000_000\n",
    "results = computation_timer({'name': 'Straightforward method', 'func': lambda: straightforward_method(upper_bound)},\n",
    "                            {'name': 'Improved method', 'func': lambda: improved_method(upper_bound)})\n",
    "print(\"Timed Results:\")\n",
    "for result in results:\n",
    "    print(\"\\t%s:\" % result['name'])\n",
    "    print(\"\\t\\tResult: %s, obtained in %f seconds\" % (result['result'], result['running_time']))"
   ]
  },
  {
   "cell_type": "code",
   "execution_count": 4,
   "metadata": {},
   "outputs": [
    {
     "name": "stdout",
     "output_type": "stream",
     "text": [
      "Timed Results:\n",
      "\tStraightforward method:\n",
      "\t\tResult: 25000000166666664166666650000000, obtained in 41.800555 seconds\n",
      "\tImproved method:\n",
      "\t\tResult: 25000000166666664166666650000000, obtained in 0.000005 seconds\n"
     ]
    }
   ],
   "source": [
    "upper_bound = 100_000_000\n",
    "results = computation_timer({'name': 'Straightforward method', 'func': lambda: straightforward_method(upper_bound)},\n",
    "                            {'name': 'Improved method', 'func': lambda: improved_method(upper_bound)})\n",
    "print(\"Timed Results:\")\n",
    "for result in results:\n",
    "    print(\"\\t%s:\" % result['name'])\n",
    "    print(\"\\t\\tResult: %s, obtained in %f seconds\" % (result['result'], result['running_time']))"
   ]
  }
 ],
 "metadata": {
  "kernelspec": {
   "display_name": "Python 3",
   "language": "python",
   "name": "python3"
  },
  "language_info": {
   "codemirror_mode": {
    "name": "ipython",
    "version": 3
   },
   "file_extension": ".py",
   "mimetype": "text/x-python",
   "name": "python",
   "nbconvert_exporter": "python",
   "pygments_lexer": "ipython3",
   "version": "3.6.6"
  }
 },
 "nbformat": 4,
 "nbformat_minor": 2
}
