{
 "cells": [
  {
   "cell_type": "markdown",
   "metadata": {},
   "source": [
    "# Problem 15\n",
    "## Lattice paths\n",
    "------\n",
    "\n",
    "Starting in the top left corner of a 2×2 grid, and only being able to move to the right and down, there are exactly 6 routes to the bottom right corner.\n",
    "\n",
    "*How many such routes are there through a 20×20 grid?*\n",
    "\n",
    "---\n",
    "Correct result: **137846528820**"
   ]
  },
  {
   "cell_type": "markdown",
   "metadata": {},
   "source": [
    "### Discussion\n",
    "\n",
    "The problem of finding how many unique routes from the top left to the bottom right of a grid using only moves down or to the right can be solved by Pascal's triangle, or as a combinatorial problem:\n",
    "\n",
    "In order to move from the top left to the bottom right of an $n \\times n$ grid (where $n$ represents the number of segments per side, not the number of nodes/intersections) $n$ moves downward and $n$ moves to the right are required. Those $2n$ total moves can be arranged in any order, however. The problem is thus equivalent to determining how many different ways you can choose $n$ moves downward out of $2n$ total moves (since the remaining $n$ moves will all be moves to the right). This is exactly the value given by the binomial coefficient:\n",
    "\n",
    "$$\\binom{2n}{n} = \\frac{(2n)!}{n!(2n - n)!} = \\frac{(2n)!}{(n!)^2}$$\n",
    "\n",
    "For example, for a $4 \\times 4$ grid, this means the number of possibilities is $\\binom{8}{4}$:\n",
    "\n",
    "$$\\binom{8}{4} = \\frac{8!}{4! (8 - 4)!} = \\frac{8 * 7 * 6 * 5}{4 * 3 * 2 * 1} = \\frac{1680}{24} = 70$$\n",
    "  \n",
    "Straightforward code to calculate the corresponding value for the $20 \\times 20$ grid using a factorial function is included below."
   ]
  },
  {
   "cell_type": "code",
   "execution_count": 1,
   "metadata": {},
   "outputs": [],
   "source": [
    "def factorial(n):\n",
    "    if n in (0, 1):\n",
    "        return 1\n",
    "    else:\n",
    "        prod = n\n",
    "        for p in range(2, n):\n",
    "            prod *= p\n",
    "        return prod\n",
    "\n",
    "def num_paths(grid_size):\n",
    "    return factorial(2 * grid_size) // ((factorial(grid_size))**2)"
   ]
  },
  {
   "cell_type": "code",
   "execution_count": 2,
   "metadata": {},
   "outputs": [
    {
     "name": "stdout",
     "output_type": "stream",
     "text": [
      "Timed Results:\n",
      "\tStraightforward Method:\n",
      "\t\tResult: 137846528820, obtained in 0.000010 seconds\n"
     ]
    }
   ],
   "source": [
    "# Running and timing this approach:\n",
    "from utils import computation_timer\n",
    "\n",
    "results = computation_timer({'name':'Straightforward Method', 'func': lambda: num_paths(20)})\n",
    "print(\"Timed Results:\")\n",
    "for result in results:\n",
    "    print(\"\\t%s:\" % result['name'])\n",
    "    print(\"\\t\\tResult: %d, obtained in %f seconds\" % (result['result'], result['running_time']))"
   ]
  }
 ],
 "metadata": {
  "kernelspec": {
   "display_name": "Python 3",
   "language": "python",
   "name": "python3"
  },
  "language_info": {
   "codemirror_mode": {
    "name": "ipython",
    "version": 3
   },
   "file_extension": ".py",
   "mimetype": "text/x-python",
   "name": "python",
   "nbconvert_exporter": "python",
   "pygments_lexer": "ipython3",
   "version": "3.6.6"
  }
 },
 "nbformat": 4,
 "nbformat_minor": 2
}
