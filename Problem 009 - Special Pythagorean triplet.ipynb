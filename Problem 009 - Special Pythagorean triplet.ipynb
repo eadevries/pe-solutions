{
 "cells": [
  {
   "cell_type": "markdown",
   "metadata": {},
   "source": [
    "# Problem 9\n",
    "## Special Pythagorean triplet\n",
    "------\n",
    "\n",
    "A Pythagorean triplet is a set of three natural numbers, $a < b < c$, for which $a^2 + b^2 = c^2$. For example, $3^2 + 4^2 = 9 + 16 = 25 = 52$.\n",
    "\n",
    "There exists exactly one Pythagorean triplet for which $a + b + c = 1000$.\n",
    "Find the product $a \\cdot b \\cdot c$.\n",
    "\n",
    "---\n",
    "\n",
    "Correct result: **31875000**"
   ]
  },
  {
   "cell_type": "markdown",
   "metadata": {},
   "source": [
    "### Discussion\n",
    "\n",
    "Because of the strict inequalities between a, b, and c, it follows that $a < \\frac{1000}{3}$ and $a \\lt b \\lt \\frac{1000 - a}{2}$, with c naturally being the difference of 1000 and a + b.\n",
    "\n",
    "In addition, we can improve the time slightly by using faster checks. It is known (see http://mathworld.wolfram.com/PythagoreanTriple.html) that for a Pythagoran triplet a, b, c, the product of a and b must be divisible by 12, and that the product of a, b and c must be divisible by 60."
   ]
  },
  {
   "cell_type": "code",
   "execution_count": 1,
   "metadata": {},
   "outputs": [],
   "source": [
    "def find_triplet():\n",
    "    for a in range(1, 333):\n",
    "        for b in range(a, (1000 - a) // 2 + 1):\n",
    "            c = 1000 - a - b\n",
    "            if (a**2 + b**2 == c**2):\n",
    "                return a, b, c\n",
    "    return False\n",
    "\n",
    "def improved_find_triplet():\n",
    "    for a in range(1, 333):\n",
    "        for b in range(a, (1000 - a) // 2 + 1):\n",
    "            if a * b % 12 != 0:\n",
    "                continue\n",
    "            c = 1000 - a - b\n",
    "            if a * b * c % 60 != 0:\n",
    "                continue\n",
    "            if (a**2 + b**2 == c**2):\n",
    "                return a, b, c\n",
    "    return False"
   ]
  },
  {
   "cell_type": "code",
   "execution_count": 2,
   "metadata": {},
   "outputs": [
    {
     "name": "stdout",
     "output_type": "stream",
     "text": [
      "Timed Results:\n",
      "\tStraightforward method:\n",
      "\t\tResult: (200, 375, 425), obtained in 0.075203 seconds\n",
      "\tImproved method:\n",
      "\t\tResult: (200, 375, 425), obtained in 0.018333 seconds\n",
      "\n",
      "As can be seen, these values meet the required conditions:\n",
      "\t200 + 375 + 425 = 1000\n",
      "\t200 * 375 * 425 = 31875000\n"
     ]
    }
   ],
   "source": [
    "# Running and timing this straightforward approach:\n",
    "\n",
    "from utils import computation_timer\n",
    "from functools import reduce\n",
    "\n",
    "results = computation_timer({'name': 'Straightforward method', 'func': find_triplet},\n",
    "                            {'name': 'Improved method', 'func': improved_find_triplet})\n",
    "\n",
    "print(\"Timed Results:\")\n",
    "for result in results:\n",
    "    print(\"\\t%s:\" % result['name'])\n",
    "    print(\"\\t\\tResult: %s, obtained in %f seconds\" % (result['result'], result['running_time']))\n",
    "print(\"\\nAs can be seen, these values meet the required conditions:\")\n",
    "print(\"\\t%d + %d + %d =\" % result['result'], sum(result['result']))\n",
    "print(\"\\t%d * %d * %d =\" % result['result'], reduce(lambda x, y: x * y, result['result']))"
   ]
  }
 ],
 "metadata": {
  "kernelspec": {
   "display_name": "Python 3",
   "language": "python",
   "name": "python3"
  },
  "language_info": {
   "codemirror_mode": {
    "name": "ipython",
    "version": 3
   },
   "file_extension": ".py",
   "mimetype": "text/x-python",
   "name": "python",
   "nbconvert_exporter": "python",
   "pygments_lexer": "ipython3",
   "version": "3.6.6"
  }
 },
 "nbformat": 4,
 "nbformat_minor": 2
}
