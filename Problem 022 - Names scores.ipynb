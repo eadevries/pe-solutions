{
 "cells": [
  {
   "cell_type": "markdown",
   "metadata": {},
   "source": [
    "# Problem 22\n",
    "##  Names scores\n",
    "------\n",
    "\n",
    "Using names.txt, a 46K text file containing over five-thousand first names, begin by sorting it into alphabetical order. Then working out the alphabetical value for each name, multiply this value by its alphabetical position in the list to obtain a name score.\n",
    "\n",
    "For example, when the list is sorted into alphabetical order, COLIN, which is worth 3 + 15 + 12 + 9 + 14 = 53, is the 938th name in the list. So, COLIN would obtain a score of 938 × 53 = 49714.\n",
    "\n",
    "*What is the total of all the name scores in the file?*\n",
    "\n",
    "---\n",
    "Correct result: **871198282**"
   ]
  },
  {
   "cell_type": "markdown",
   "metadata": {},
   "source": [
    "### Discussion\n",
    "\n",
    "The approach to this problem is straightforward. First we sort the name list loaded from the file. Then we iterate through teach word, assigning the values to each letter and multiplying the sum of these by the ordinal position of the name in the list; this number is then added to the total."
   ]
  },
  {
   "cell_type": "code",
   "execution_count": 1,
   "metadata": {},
   "outputs": [],
   "source": [
    "def word_value(word):\n",
    "    value = 0\n",
    "    for letter in word:\n",
    "        value += letter_values[letter]\n",
    "    return value\n",
    "\n",
    "\n",
    "def calculate_name_scores(name_list):\n",
    "    name_list.sort()\n",
    "    letter_values = {}\n",
    "    for n, letter in zip(range(1, 27), \"ABCDEFGHIJKLMNOPQRSTUVWXYZ\"):\n",
    "        letter_values[letter] = n\n",
    "    \n",
    "    total = 0\n",
    "    for n in range(0, len(name_list)):\n",
    "        value = 0\n",
    "        for letter in name_list[n]:\n",
    "            value += letter_values[letter]\n",
    "        total += (n + 1) * value\n",
    "    return total\n",
    "\n",
    "\n",
    "with open('./names.txt', 'r') as f:\n",
    "    names = f.read().strip('\"').split('\",\"')"
   ]
  },
  {
   "cell_type": "code",
   "execution_count": 2,
   "metadata": {},
   "outputs": [
    {
     "name": "stdout",
     "output_type": "stream",
     "text": [
      "Timed Results:\n",
      "\tStraightforward Method:\n",
      "\t\tResult: 871198282, obtained in 0.004078 seconds\n"
     ]
    }
   ],
   "source": [
    "# Running and timing the alternative approaches:\n",
    "from utils import computation_timer\n",
    "\n",
    "results = computation_timer({'name':'Straightforward Method', 'func': lambda: calculate_name_scores(names)})\n",
    "print(\"Timed Results:\")\n",
    "for result in results:\n",
    "    print(\"\\t%s:\" % result['name'])\n",
    "    print(\"\\t\\tResult: %d, obtained in %f seconds\" % (result['result'], result['running_time']))"
   ]
  }
 ],
 "metadata": {
  "kernelspec": {
   "display_name": "Python 3",
   "language": "python",
   "name": "python3"
  },
  "language_info": {
   "codemirror_mode": {
    "name": "ipython",
    "version": 3
   },
   "file_extension": ".py",
   "mimetype": "text/x-python",
   "name": "python",
   "nbconvert_exporter": "python",
   "pygments_lexer": "ipython3",
   "version": "3.6.6"
  }
 },
 "nbformat": 4,
 "nbformat_minor": 2
}
