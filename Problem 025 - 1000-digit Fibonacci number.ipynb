{
 "cells": [
  {
   "cell_type": "markdown",
   "metadata": {},
   "source": [
    "# Problem 25\n",
    "##  1000-digit Fibonacci number\n",
    "------\n",
    "\n",
    "The Fibonacci sequence is defined by the recurrence relation:\n",
    "\n",
    "$F_{n} = F_{n−1} + F_{n−2}$, where $F_{1} = 1$ and $F_{2} = 1$.\n",
    "Hence the first 12 terms will be:\n",
    "\n",
    "$F_{1} = 1$   \n",
    "$F_{2} = 1$   \n",
    "$F_{3} = 2$   \n",
    "$F_{4} = 3$   \n",
    "$F_{5} = 5$   \n",
    "$F_{6} = 8$   \n",
    "$F_{7} = 13$   \n",
    "$F_{8} = 21$   \n",
    "$F_{9} = 34$   \n",
    "$F_{10} = 55$   \n",
    "$F_{11} = 89$   \n",
    "$F_{12} = 144$   \n",
    "\n",
    "The 12th term, $F_{12}$, is the first term to contain three digits.\n",
    "\n",
    "*What is the index of the first term in the Fibonacci sequence to contain 1000 digits?*\n",
    "\n",
    "---\n",
    "Correct result: **4782**"
   ]
  },
  {
   "cell_type": "markdown",
   "metadata": {},
   "source": [
    "### Discussion\n",
    "\n",
    "This problem can be calculated with a quite straightforward implementation of the Fibonacci sequence, as seen below. We can check for 1000 digits by comparing the size of the next Fibonacci number with $10^{999}$."
   ]
  },
  {
   "cell_type": "code",
   "execution_count": 1,
   "metadata": {},
   "outputs": [],
   "source": [
    "def fibonacci():\n",
    "    m = 1\n",
    "    n = 2\n",
    "    index = 3\n",
    "    sum = 2\n",
    "    while True:\n",
    "        m, n = n, m + n\n",
    "        index += 1\n",
    "        if n >= 10**999:\n",
    "            return index"
   ]
  },
  {
   "cell_type": "code",
   "execution_count": 2,
   "metadata": {},
   "outputs": [
    {
     "name": "stdout",
     "output_type": "stream",
     "text": [
      "Timed Results:\n",
      "\tNaive Method:\n",
      "\t\tResult: 4782, obtained in 0.018867 seconds\n"
     ]
    }
   ],
   "source": [
    "# Running and timing the approach:\n",
    "from utils import computation_timer\n",
    "\n",
    "results = computation_timer({'name':'Naive Method', 'func': fibonacci})\n",
    "print(\"Timed Results:\")\n",
    "for result in results:\n",
    "    print(\"\\t%s:\" % result['name'])\n",
    "    print(\"\\t\\tResult: %d, obtained in %f seconds\" % (result['result'], result['running_time']))"
   ]
  }
 ],
 "metadata": {
  "kernelspec": {
   "display_name": "Python 3",
   "language": "python",
   "name": "python3"
  },
  "language_info": {
   "codemirror_mode": {
    "name": "ipython",
    "version": 3
   },
   "file_extension": ".py",
   "mimetype": "text/x-python",
   "name": "python",
   "nbconvert_exporter": "python",
   "pygments_lexer": "ipython3",
   "version": "3.6.6"
  }
 },
 "nbformat": 4,
 "nbformat_minor": 2
}
