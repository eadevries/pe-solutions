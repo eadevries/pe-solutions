{
 "cells": [
  {
   "cell_type": "markdown",
   "metadata": {},
   "source": [
    "# Problem 4\n",
    "##  Largest Palindrome product\n",
    "------\n",
    "\n",
    "A palindromic number reads the same both ways. The largest palindrome made from the product of two 2-digit numbers is 9009 = 91 × 99.\n",
    "\n",
    "*Find the largest palindrome made from the product of two 3-digit numbers.*\n",
    "\n",
    "---\n",
    "Correct result: **906609**"
   ]
  },
  {
   "cell_type": "code",
   "execution_count": 1,
   "metadata": {},
   "outputs": [],
   "source": [
    "def is_palindrome(num):\n",
    "    num_str = str(num)\n",
    "    for n in range(0, len(num_str) // 2):\n",
    "        if num_str[n] != num_str[-(n + 1)]:\n",
    "            return False\n",
    "    return True\n",
    "\n",
    "def naive_method():\n",
    "    largest_palindrome = -1\n",
    "    factors = (-1, 1)\n",
    "    for n in range(100, 1000):\n",
    "        for m in range(500, 1000):\n",
    "            if is_palindrome(n * m) and n * m > largest_palindrome:\n",
    "                largest_palindrome = n * m\n",
    "                factors = (n, m)\n",
    "    return (largest_palindrome, factors)\n",
    "\n",
    "def mult_11_method():\n",
    "    largest_palindrome = -1\n",
    "    factors = (-1, 1)\n",
    "    for n in range(11, 1000, 11):\n",
    "        for m in range(999, n - 1, -1):\n",
    "            if is_palindrome(n * m) and n * m > largest_palindrome:\n",
    "                largest_palindrome = n * m\n",
    "                factors = (n, m)\n",
    "    if largest_palindrome < 100000:\n",
    "        largest_palindrome, factors = naive_method()\n",
    "    return (largest_palindrome, factors)\n",
    "\n",
    "def binned_method(nmax, assume_even_digits):\n",
    "    multiple = 11 if assume_even_digits else 1\n",
    "    largest_palindrome = -1\n",
    "    factors = (-1, 1)\n",
    "    for lb in range(nmax, 99, -1):\n",
    "        prod_lb = lb ** 2\n",
    "        if largest_palindrome != -1:\n",
    "            break\n",
    "        for n in range(nmax, lb - 1, -1):\n",
    "            m = multiple * (lb // multiple)\n",
    "            while m * n >= prod_lb and m > 0:\n",
    "                condition = m * n > largest_palindrome and is_palindrome(m * n)\n",
    "                if condition:\n",
    "                    largest_palindrome = m * n\n",
    "                    factors = (m, n)\n",
    "                m -= multiple\n",
    "    return (largest_palindrome, factors)\n",
    "\n",
    "def combined_method(nmax=999):\n",
    "    result = binned_method(nmax, True)\n",
    "    return result if result[0] != -1 else binned_method(nmax, False)"
   ]
  },
  {
   "cell_type": "markdown",
   "metadata": {},
   "source": [
    "### Discussion\n",
    "\n",
    "The naive approach to this problem is to simply compare all pairs of numbers between the given upper and lower bounds. However, it can be proven that all palindromic numbers that have an even number of digits are divisible by 11. (See e.g. [jwilson.coe.uga.edu/emt669/Student.Folders/Bacchus.Mohamed/pal/pal.html](http://jwilson.coe.uga.edu/emt669/Student.Folders/Bacchus.Mohamed/pal/pal.html)). This result can be used to reduce the running time by an order of magnitude by letting one of our indices increment by 11 when checking for palindromes, provided that the largest palindrome for which we are checking does indeed have an even number of digits. By the results for the naive approach we can see that this is in fact true, but if we did not already know the answer, we could fall back to the simple approach in the case where no 6-digit palindrome were found.\n",
    "\n",
    "Because we want to find the _largest_ palindrome product, we can further improve the algorithm by starting from the top and iterating downward. However, in order for this improvement to work we need to be able to order or group the pairs of numbers that we check so that we can know for certain that a particular palindrome is the largest without having to check any further pairs. A simple pair of _for_ loops with n running from upper bound to lower bound in the outer loop and m doing the same in the inner loop is not guaranteed to find a larger palindrome product before any smaller ones. In other words, a loop invariant is needed that assures that the largest palindrome product found in the current iteration of the loop (if any) will necessarily be larger than any found in subsequent loops.\n",
    "\n",
    "A simple way to achieve this is to bin the pairs by their products, as looping over a decrementing lower bound for the products will achieve the loop invariant mentioned above. We can check all pairs such that $m \\cdot n \\ge {lb}^2$ before continuing to the next lower bound.\n",
    "\n",
    "This approach is also an order of magnitude faster than the naive method. They can then be combined to take advantage of both improvements."
   ]
  },
  {
   "cell_type": "code",
   "execution_count": 2,
   "metadata": {},
   "outputs": [
    {
     "name": "stdout",
     "output_type": "stream",
     "text": [
      "Timed Results:\n",
      "\tNaive Method:\n",
      "\t\tResult: (906609, (913, 993)), obtained in 0.307025 seconds\n",
      "\tMultiples of 11 Method:\n",
      "\t\tResult: (906609, (913, 993)), obtained in 0.030369 seconds\n",
      "\tBinned Method:\n",
      "\t\tResult: (906609, (913, 993)), obtained in 0.015044 seconds\n",
      "\tCombined Method:\n",
      "\t\tResult: (906609, (913, 993)), obtained in 0.001638 seconds\n"
     ]
    }
   ],
   "source": [
    "# Running and timing the alternative approaches:\n",
    "from utils import computation_timer\n",
    "\n",
    "results = computation_timer({'name': 'Naive Method', 'func': naive_method},\n",
    "                            {'name': 'Multiples of 11 Method', 'func': mult_11_method},\n",
    "                            {'name': 'Binned Method', 'func': lambda: binned_method(999, False)},\n",
    "                            {'name': 'Combined Method', 'func': lambda: combined_method(999)})\n",
    "print(\"Timed Results:\")\n",
    "for result in results:\n",
    "    print(\"\\t%s:\" % result['name'])\n",
    "    print(\"\\t\\tResult: %s, obtained in %f seconds\" % (result['result'], result['running_time']))"
   ]
  }
 ],
 "metadata": {
  "kernelspec": {
   "display_name": "Python 3",
   "language": "python",
   "name": "python3"
  },
  "language_info": {
   "codemirror_mode": {
    "name": "ipython",
    "version": 3
   },
   "file_extension": ".py",
   "mimetype": "text/x-python",
   "name": "python",
   "nbconvert_exporter": "python",
   "pygments_lexer": "ipython3",
   "version": "3.6.6"
  }
 },
 "nbformat": 4,
 "nbformat_minor": 2
}
