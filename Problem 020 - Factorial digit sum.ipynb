{
 "cells": [
  {
   "cell_type": "markdown",
   "metadata": {},
   "source": [
    "# Problem 20\n",
    "##  Factorial digit sum\n",
    "------\n",
    "\n",
    "$n!$ means $n \\cdot (n − 1) \\cdot \\ldots \\cdot 3 \\cdot 2 \\cdot 1$\n",
    "\n",
    "For example, $10! = 10 \\cdot 9 \\cdot \\ldots \\cdot 3 \\cdot 2 \\cdot 1 = 3628800$,\n",
    "and the sum of the digits in the number $10!$ is $3 + 6 + 2 + 8 + 8 + 0 + 0 = 27$.\n",
    "\n",
    "*Find the sum of the digits in the number 100!*\n",
    "\n",
    "---\n",
    "Correct result: **648**"
   ]
  },
  {
   "cell_type": "markdown",
   "metadata": {},
   "source": [
    "### Discussion\n",
    "\n",
    "In this case, the straightforward approach is satisfactory, as Python is able to handle the 158 digit number produced by 100! without any special considerations. Therefore, the approach uses a simple factorial function to calculate the value, and then iterates through the string-converted version of the number, adding the digits."
   ]
  },
  {
   "cell_type": "code",
   "execution_count": 1,
   "metadata": {},
   "outputs": [],
   "source": [
    "def factorial(n):\n",
    "    if n in (0, 1):\n",
    "        return 1\n",
    "    prod = 1\n",
    "    for m in range(1, n + 1):\n",
    "        prod *= m\n",
    "    return prod\n",
    "\n",
    "def factorial_digit_sum(num):\n",
    "    total = 0\n",
    "    for char in str(factorial(num)):\n",
    "        total += int(char)\n",
    "    return total"
   ]
  },
  {
   "cell_type": "code",
   "execution_count": 2,
   "metadata": {},
   "outputs": [
    {
     "name": "stdout",
     "output_type": "stream",
     "text": [
      "Timed Results:\n",
      "\tStraightforward Method:\n",
      "\t\tResult: 648, obtained in 0.000061 seconds\n"
     ]
    }
   ],
   "source": [
    "# Running and timing the approach:\n",
    "from utils import computation_timer\n",
    "\n",
    "results = computation_timer({'name':'Straightforward Method', 'func': lambda: factorial_digit_sum(100)},\n",
    "                            )\n",
    "print(\"Timed Results:\")\n",
    "for result in results:\n",
    "    print(\"\\t%s:\" % result['name'])\n",
    "    print(\"\\t\\tResult: %d, obtained in %f seconds\" % (result['result'], result['running_time']))"
   ]
  }
 ],
 "metadata": {
  "kernelspec": {
   "display_name": "Python 3",
   "language": "python",
   "name": "python3"
  },
  "language_info": {
   "codemirror_mode": {
    "name": "ipython",
    "version": 3
   },
   "file_extension": ".py",
   "mimetype": "text/x-python",
   "name": "python",
   "nbconvert_exporter": "python",
   "pygments_lexer": "ipython3",
   "version": "3.6.6"
  }
 },
 "nbformat": 4,
 "nbformat_minor": 2
}
