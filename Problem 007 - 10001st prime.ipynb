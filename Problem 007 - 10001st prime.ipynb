{
 "cells": [
  {
   "cell_type": "markdown",
   "metadata": {},
   "source": [
    "# Problem 7\n",
    "## 10001st prime\n",
    "------\n",
    "\n",
    "By listing the first six prime numbers: 2, 3, 5, 7, 11, and 13, we can see that the 6th prime is 13.\n",
    "\n",
    "What is the 10 001st prime number?\n",
    "\n",
    "---\n",
    "\n",
    "Correct result: **104743**"
   ]
  },
  {
   "cell_type": "markdown",
   "metadata": {},
   "source": [
    "### Discussion\n",
    "\n",
    "The first, slower method presented creates and uses a list of primes, sequentially testing a number against the list of primes.\n",
    "\n",
    "The second method creates a list of numbers and then uses the Sieve of Eratosthenes method to \"sieve\" out the non-primes. Because this method involves creating the list of numbers first, we need to start by finding an upper bound for how large the 10,001st prime can be. We can find a formula for a bound based on the prime counting function ($\\pi(n)$, where the value of the function is the number of primes below n) here: http://mathworld.wolfram.com/PrimeCountingFunction.html.\n",
    "\n",
    "$$\\frac{n}{\\ln(n)} \\lt \\pi(n), \\hspace{5mm}n \\ge 17$$\n",
    "\n",
    "In words, this inequality states that if $n \\ge 17$ the number of primes less than n is greater than $\\frac{n}{\\ln(n)}$. To find the mth prime, we can therefore set $\\pi(n) = m$ and then an upper bound will be the solution to:\n",
    "\n",
    "$$\\frac{n}{\\ln(n)} - m = 0$$\n",
    "\n",
    "The second method will use numpy to find an approximation for this numerically, before preceding to our normal sieve method."
   ]
  },
  {
   "cell_type": "code",
   "execution_count": 1,
   "metadata": {},
   "outputs": [],
   "source": [
    "def division_test(num):\n",
    "    primes = [2, 3, 5, 7, 11, 13]\n",
    "    count = len(primes)\n",
    "    if num <= count:\n",
    "        return primes[num - 1]\n",
    "    next_int = primes[-1]\n",
    "    while count < num:\n",
    "        next_int += 2\n",
    "        is_prime = True\n",
    "        for prime in primes:\n",
    "            if next_int % prime == 0:\n",
    "                is_prime = False\n",
    "                break\n",
    "        if is_prime:\n",
    "            primes.append(next_int)\n",
    "            count += 1\n",
    "    return primes[-1]\n",
    "\n",
    "import numpy as np\n",
    "from math import floor, sqrt\n",
    "\n",
    "def sieve_method(num):\n",
    "    if num < 17:\n",
    "        upper_bound = 60\n",
    "    else:\n",
    "        x = np.linspace(17, num**2, num)\n",
    "        y = x / np.log(x)\n",
    "        upper_bound = floor((x[np.where(np.diff(np.sign(y - num)))[0][0]]))\n",
    "    bools = [False, False, True, True] + [False, True] * ((upper_bound - 1) // 2)\n",
    "    sieve = dict(zip(range(0, upper_bound + 1), bools))\n",
    "    for n in range(3, floor((upper_bound + 1) // 2)):\n",
    "        for m in range(2, upper_bound // n + 1):\n",
    "            sieve[n * m] = False\n",
    "    primes = [k for k, v in sieve.items() if v]\n",
    "    count = 0\n",
    "    for k, v in sieve.items():\n",
    "        if v:\n",
    "            count += 1\n",
    "        if count == num:\n",
    "            return k\n",
    "    return None"
   ]
  },
  {
   "cell_type": "code",
   "execution_count": 2,
   "metadata": {},
   "outputs": [
    {
     "name": "stdout",
     "output_type": "stream",
     "text": [
      "Timed Results:\n",
      "\tDivision Test method:\n",
      "\t\tResult: 104743, obtained in 2.611178 seconds\n",
      "\tSieve method:\n",
      "\t\tResult: 104743, obtained in 0.226846 seconds\n"
     ]
    }
   ],
   "source": [
    "# Running and timing the sieve approach:\n",
    "from utils import computation_timer\n",
    "\n",
    "results = computation_timer({'name': 'Division Test method', 'func': lambda: division_test(10001)},\n",
    "                            {'name': 'Sieve method', 'func': lambda: sieve_method(10001)})\n",
    "\n",
    "print(\"Timed Results:\")\n",
    "for result in results:\n",
    "    print(\"\\t%s:\" % result['name'])\n",
    "    print(\"\\t\\tResult: %s, obtained in %f seconds\" % (result['result'], result['running_time']))"
   ]
  }
 ],
 "metadata": {
  "kernelspec": {
   "display_name": "Python 3",
   "language": "python",
   "name": "python3"
  },
  "language_info": {
   "codemirror_mode": {
    "name": "ipython",
    "version": 3
   },
   "file_extension": ".py",
   "mimetype": "text/x-python",
   "name": "python",
   "nbconvert_exporter": "python",
   "pygments_lexer": "ipython3",
   "version": "3.6.6"
  }
 },
 "nbformat": 4,
 "nbformat_minor": 2
}
