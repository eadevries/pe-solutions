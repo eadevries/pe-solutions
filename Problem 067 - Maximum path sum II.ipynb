{
 "cells": [
  {
   "cell_type": "markdown",
   "metadata": {},
   "source": [
    "# Problem 67\n",
    "##  Maximum path sum II\n",
    "------\n",
    "\n",
    "By starting at the top of the triangle below and moving to adjacent numbers on the row below, the maximum total from top to bottom is 23.\n",
    "\n",
    "<center>\n",
    "<div>3</div>\n",
    "<div>7 4</div>\n",
    "<div>2 4 6</div>\n",
    "<div>8 5 9 3</div>\n",
    "<center>\n",
    "\n",
    "That is, 3 + 7 + 4 + 9 = 23.\n",
    "\n",
    "*Find the maximum total from top to bottom in triangle.txt, a 15K text file containing a triangle with one-hundred rows.*\n",
    "\n",
    "NOTE: This is a much more difficult version of Problem 18. It is not possible to try every route to solve this problem, as there are 299 altogether! If you could check one trillion (1012) routes every second it would take over twenty billion years to check them all. There is an efficient algorithm to solve it.\n",
    "\n",
    "---\n",
    "Correct result: **7273**"
   ]
  },
  {
   "cell_type": "markdown",
   "metadata": {},
   "source": [
    "### Discussion\n",
    "\n",
    "This problem uses the exact same method as that for Problem 18, in which the maximum of each sub-tree is calculated, moving from the bottom of the pyramid up. For further explanation, please see the discussion section in that problem."
   ]
  },
  {
   "cell_type": "code",
   "execution_count": 1,
   "metadata": {},
   "outputs": [],
   "source": [
    "# Loading the pyramid from file\n",
    "pyramid_lines = []\n",
    "with open('triangle.txt', 'r') as f:\n",
    "    pyramid_lines = list(map(lambda x: x.strip(), f.readlines()))\n",
    "pyramid_list = list(map(lambda x: list(map(int, x.split())), pyramid_lines))"
   ]
  },
  {
   "cell_type": "code",
   "execution_count": 2,
   "metadata": {},
   "outputs": [],
   "source": [
    "class Node(object):\n",
    "\n",
    "    def __init__(self, value, sub_link_1=None, sub_link_2=None):\n",
    "        self.value = value\n",
    "        if sub_link_1 is not None and sub_link_2 is not None:\n",
    "            self.sub_link_1 = sub_link_1\n",
    "            self.sub_link_2 = sub_link_2\n",
    "        else:\n",
    "            self.sub_link_1 = None\n",
    "            self.sub_link_2 = None\n",
    "        self.sub_tree_max = None\n",
    "        self.sub_tree_chain = [self.value]\n",
    "\n",
    "    def get_sub_tree_max(self):\n",
    "        if self.sub_tree_max is None:\n",
    "            if self.sub_link_1 is not None and self.sub_link_2 is not None:\n",
    "                sub_max_1 = self.sub_link_1.get_sub_tree_max()\n",
    "                sub_max_2 = self.sub_link_2.get_sub_tree_max()\n",
    "                self.sub_tree_max = self.value + max(sub_max_1, sub_max_2)\n",
    "                self.sub_tree_chain += self.sub_link_1.sub_tree_chain if sub_max_1 > sub_max_2 else self.sub_link_2.sub_tree_chain\n",
    "            else:\n",
    "                self.sub_tree_max = self.value\n",
    "        return self.sub_tree_max\n",
    "\n",
    "    def __repr__(self):\n",
    "        if self.sub_link_1 is not None and self.sub_link_2 is not None:\n",
    "            return \"{}({},{})\".format(self.value, self.sub_link_1.value, self.sub_link_2.value)\n",
    "        else:\n",
    "            return str(self.value)\n",
    "\n",
    "def find_max_sum(pyramid):\n",
    "    # Populating pyramid:\n",
    "    node_pyramid = []\n",
    "    for i in range(len(pyramid) - 1, -1, -1):\n",
    "        newrow = []\n",
    "        for j in range(0, len(pyramid[i])):\n",
    "            if i == len(pyramid) - 1:\n",
    "                node = Node(pyramid[i][j])\n",
    "            else:\n",
    "                node = Node(pyramid[i][j], node_pyramid[-1][j], node_pyramid[-1][j + 1])\n",
    "            newrow.append(node)\n",
    "        node_pyramid.append(newrow)\n",
    "    \n",
    "    # Finding max sum:\n",
    "    return node_pyramid[::-1][0][0].get_sub_tree_max()\n",
    "\n",
    "def find_max_sum(pyramid):\n",
    "    # Populating pyramid:\n",
    "    node_pyramid = []\n",
    "    for i in range(len(pyramid) - 1, -1, -1):\n",
    "        newrow = []\n",
    "        for j in range(0, len(pyramid[i])):\n",
    "            if i == len(pyramid) - 1:\n",
    "                node = Node(pyramid[i][j])\n",
    "            else:\n",
    "                node = Node(pyramid[i][j], node_pyramid[-1][j], node_pyramid[-1][j + 1])\n",
    "            newrow.append(node)\n",
    "        node_pyramid.append(newrow)\n",
    "    # Finding max sum:\n",
    "    return node_pyramid[::-1][0][0].get_sub_tree_max()"
   ]
  },
  {
   "cell_type": "code",
   "execution_count": 3,
   "metadata": {},
   "outputs": [
    {
     "name": "stdout",
     "output_type": "stream",
     "text": [
      "Timed Results:\n",
      "\tSub-tree method:\n",
      "\t\tResult: 7273, obtained in 0.015429 seconds\n"
     ]
    }
   ],
   "source": [
    "# Running and timing the alternative approaches:\n",
    "from utils import computation_timer\n",
    "\n",
    "results = computation_timer({'name':'Sub-tree method', 'func': lambda: find_max_sum(pyramid_list)})\n",
    "print(\"Timed Results:\")\n",
    "for result in results:\n",
    "    print(\"\\t%s:\" % result['name'])\n",
    "    print(\"\\t\\tResult: %d, obtained in %f seconds\" % (result['result'], result['running_time']))"
   ]
  }
 ],
 "metadata": {
  "kernelspec": {
   "display_name": "Python 3",
   "language": "python",
   "name": "python3"
  },
  "language_info": {
   "codemirror_mode": {
    "name": "ipython",
    "version": 3
   },
   "file_extension": ".py",
   "mimetype": "text/x-python",
   "name": "python",
   "nbconvert_exporter": "python",
   "pygments_lexer": "ipython3",
   "version": "3.6.6"
  }
 },
 "nbformat": 4,
 "nbformat_minor": 2
}
